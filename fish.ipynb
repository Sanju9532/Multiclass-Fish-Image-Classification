{
 "cells": [
  {
   "cell_type": "code",
   "execution_count": 3,
   "metadata": {},
   "outputs": [],
   "source": [
    "import numpy as np\n",
    "import pandas as pd\n",
    "import tensorflow as tf\n",
    "import os\n",
    "from tensorflow import keras\n",
    "from tensorflow.keras import layers\n",
    "from tensorflow.keras.preprocessing.image import ImageDataGenerator\n",
    "from tensorflow.keras.models import Sequential\n",
    "from tensorflow.keras.utils import to_categorical\n",
    "from tensorflow.keras.layers import Dense,Dropout,Flatten,Input,Conv2D,GlobalAveragePooling2D\n",
    "from tensorflow.keras.callbacks import EarlyStopping\n",
    "from tensorflow.keras.applications.vgg16 import VGG16\n",
    "from tensorflow.keras.applications import InceptionV3\n",
    "from tensorflow.keras.applications import MobileNet\n",
    "from tensorflow.keras.optimizers import SGD,Adam\n",
    "from tensorflow.keras.models import Model\n",
    "from sklearn.metrics import classification_report,confusion_matrix\n",
    "from sklearn import  metrics\n",
    "import pickle\n",
    "import matplotlib.pyplot as plt\n",
    "import seaborn as sns\n",
    "import warnings\n",
    "warnings.filterwarnings('ignore')"
   ]
  },
  {
   "cell_type": "code",
   "execution_count": 4,
   "metadata": {},
   "outputs": [],
   "source": [
    "#loading the images\n",
    "train_data = \"C:/Users/megal/Downloads/Dataset/images.cv_jzk6llhf18tm3k0kyttxz/data/train\"\n",
    "test_data = \"C:/Users/megal/Downloads/Dataset/images.cv_jzk6llhf18tm3k0kyttxz/data/test\"\n",
    "val_data = \"C:/Users/megal/Downloads/Dataset/images.cv_jzk6llhf18tm3k0kyttxz/data/val\""
   ]
  },
  {
   "cell_type": "code",
   "execution_count": 5,
   "metadata": {},
   "outputs": [],
   "source": [
    "#seting Imagedata generator for data argumentation and rescaling\n",
    "train = ImageDataGenerator(\n",
    "    rescale = 1./255, #rescale pixel values to [0,1]\n",
    "    rotation_range = 30, #randomly rotate images\n",
    "    width_shift_range = 0.2,  #shift image horizontally\n",
    "    height_shift_range = 0.2,  #shift image vertically\n",
    "    shear_range = 0.2, #shear image \n",
    "    zoom_range = 0.2,  #zooming in or out\n",
    "    horizontal_flip = True,  #randomaly flip images horizontally\n",
    "    fill_mode = 'nearest'   #filling any missing pixels after transformations\n",
    ")"
   ]
  },
  {
   "cell_type": "code",
   "execution_count": 6,
   "metadata": {},
   "outputs": [
    {
     "name": "stdout",
     "output_type": "stream",
     "text": [
      "Found 6225 images belonging to 11 classes.\n"
     ]
    }
   ],
   "source": [
    "#creating a generator for the training data\n",
    "train_generators = train.flow_from_directory(\n",
    "    train_data,\n",
    "    target_size = (150,150),\n",
    "    batch_size = 32,\n",
    "    class_mode = 'categorical' \n",
    ")"
   ]
  },
  {
   "cell_type": "code",
   "execution_count": 7,
   "metadata": {},
   "outputs": [
    {
     "name": "stdout",
     "output_type": "stream",
     "text": [
      "Found 3187 images belonging to 11 classes.\n"
     ]
    }
   ],
   "source": [
    "#creating an generator for testing data\n",
    "test_generators = train.flow_from_directory(\n",
    "    test_data,\n",
    "    target_size = (150,150),\n",
    "    batch_size = 32,\n",
    "    class_mode = 'categorical'\n",
    ")"
   ]
  },
  {
   "cell_type": "code",
   "execution_count": 8,
   "metadata": {},
   "outputs": [
    {
     "name": "stdout",
     "output_type": "stream",
     "text": [
      "Found 1092 images belonging to 11 classes.\n"
     ]
    }
   ],
   "source": [
    "val_generators = train.flow_from_directory(\n",
    "    val_data,\n",
    "    target_size = (150,150),\n",
    "    batch_size = 32,\n",
    "    class_mode = 'categorical'\n",
    ")"
   ]
  },
  {
   "cell_type": "code",
   "execution_count": 5,
   "metadata": {},
   "outputs": [
    {
     "name": "stdout",
     "output_type": "stream",
     "text": [
      "class labels : {'animal fish': 0, 'animal fish bass': 1, 'fish sea_food black_sea_sprat': 2, 'fish sea_food gilt_head_bream': 3, 'fish sea_food hourse_mackerel': 4, 'fish sea_food red_mullet': 5, 'fish sea_food red_sea_bream': 6, 'fish sea_food sea_bass': 7, 'fish sea_food shrimp': 8, 'fish sea_food striped_red_mullet': 9, 'fish sea_food trout': 10}\n"
     ]
    }
   ],
   "source": [
    "#checking the class labels\n",
    "print(f'class labels : {train_generators.class_indices}')"
   ]
  },
  {
   "cell_type": "code",
   "execution_count": 9,
   "metadata": {},
   "outputs": [],
   "source": [
    "#building cnn model\n",
    "model = Sequential([\n",
    "    #convolutional layer + pooling layer\n",
    "    layers.Conv2D(32,(3,3),activation = 'relu',input_shape = (150,150,3)),\n",
    "    layers.MaxPooling2D((2,2)),\n",
    "\n",
    "    layers.Conv2D(64,(3,3),activation = 'relu'),\n",
    "    layers.MaxPooling2D((2,2)),\n",
    "\n",
    "    layers.Conv2D(128,(3,3),activation = 'relu'),\n",
    "    layers.MaxPooling2D(2,2),\n",
    "\n",
    "    #flatten the 3D tensor into 1D\n",
    "    layers.Flatten(),\n",
    "\n",
    "    #fully connected (Dense) layer\n",
    "    layers.Dense(128,activation = 'relu'),\n",
    "\n",
    "    #output layer\n",
    "    layers.Dense(11,activation = 'softmax')\n",
    "])"
   ]
  },
  {
   "cell_type": "code",
   "execution_count": 10,
   "metadata": {},
   "outputs": [],
   "source": [
    "#compiling the model\n",
    "model.compile(\n",
    "    optimizer = 'adam',\n",
    "    loss = 'categorical_crossentropy',  \n",
    "    metrics = ['accuracy','precision','recall','f1_score']\n",
    ")"
   ]
  },
  {
   "cell_type": "code",
   "execution_count": 11,
   "metadata": {},
   "outputs": [
    {
     "data": {
      "text/html": [
       "<pre style=\"white-space:pre;overflow-x:auto;line-height:normal;font-family:Menlo,'DejaVu Sans Mono',consolas,'Courier New',monospace\"><span style=\"font-weight: bold\">Model: \"sequential\"</span>\n",
       "</pre>\n"
      ],
      "text/plain": [
       "\u001b[1mModel: \"sequential\"\u001b[0m\n"
      ]
     },
     "metadata": {},
     "output_type": "display_data"
    },
    {
     "data": {
      "text/html": [
       "<pre style=\"white-space:pre;overflow-x:auto;line-height:normal;font-family:Menlo,'DejaVu Sans Mono',consolas,'Courier New',monospace\">┏━━━━━━━━━━━━━━━━━━━━━━━━━━━━━━━━━┳━━━━━━━━━━━━━━━━━━━━━━━━┳━━━━━━━━━━━━━━━┓\n",
       "┃<span style=\"font-weight: bold\"> Layer (type)                    </span>┃<span style=\"font-weight: bold\"> Output Shape           </span>┃<span style=\"font-weight: bold\">       Param # </span>┃\n",
       "┡━━━━━━━━━━━━━━━━━━━━━━━━━━━━━━━━━╇━━━━━━━━━━━━━━━━━━━━━━━━╇━━━━━━━━━━━━━━━┩\n",
       "│ conv2d (<span style=\"color: #0087ff; text-decoration-color: #0087ff\">Conv2D</span>)                 │ (<span style=\"color: #00d7ff; text-decoration-color: #00d7ff\">None</span>, <span style=\"color: #00af00; text-decoration-color: #00af00\">148</span>, <span style=\"color: #00af00; text-decoration-color: #00af00\">148</span>, <span style=\"color: #00af00; text-decoration-color: #00af00\">32</span>)   │           <span style=\"color: #00af00; text-decoration-color: #00af00\">896</span> │\n",
       "├─────────────────────────────────┼────────────────────────┼───────────────┤\n",
       "│ max_pooling2d (<span style=\"color: #0087ff; text-decoration-color: #0087ff\">MaxPooling2D</span>)    │ (<span style=\"color: #00d7ff; text-decoration-color: #00d7ff\">None</span>, <span style=\"color: #00af00; text-decoration-color: #00af00\">74</span>, <span style=\"color: #00af00; text-decoration-color: #00af00\">74</span>, <span style=\"color: #00af00; text-decoration-color: #00af00\">32</span>)     │             <span style=\"color: #00af00; text-decoration-color: #00af00\">0</span> │\n",
       "├─────────────────────────────────┼────────────────────────┼───────────────┤\n",
       "│ conv2d_1 (<span style=\"color: #0087ff; text-decoration-color: #0087ff\">Conv2D</span>)               │ (<span style=\"color: #00d7ff; text-decoration-color: #00d7ff\">None</span>, <span style=\"color: #00af00; text-decoration-color: #00af00\">72</span>, <span style=\"color: #00af00; text-decoration-color: #00af00\">72</span>, <span style=\"color: #00af00; text-decoration-color: #00af00\">64</span>)     │        <span style=\"color: #00af00; text-decoration-color: #00af00\">18,496</span> │\n",
       "├─────────────────────────────────┼────────────────────────┼───────────────┤\n",
       "│ max_pooling2d_1 (<span style=\"color: #0087ff; text-decoration-color: #0087ff\">MaxPooling2D</span>)  │ (<span style=\"color: #00d7ff; text-decoration-color: #00d7ff\">None</span>, <span style=\"color: #00af00; text-decoration-color: #00af00\">36</span>, <span style=\"color: #00af00; text-decoration-color: #00af00\">36</span>, <span style=\"color: #00af00; text-decoration-color: #00af00\">64</span>)     │             <span style=\"color: #00af00; text-decoration-color: #00af00\">0</span> │\n",
       "├─────────────────────────────────┼────────────────────────┼───────────────┤\n",
       "│ conv2d_2 (<span style=\"color: #0087ff; text-decoration-color: #0087ff\">Conv2D</span>)               │ (<span style=\"color: #00d7ff; text-decoration-color: #00d7ff\">None</span>, <span style=\"color: #00af00; text-decoration-color: #00af00\">34</span>, <span style=\"color: #00af00; text-decoration-color: #00af00\">34</span>, <span style=\"color: #00af00; text-decoration-color: #00af00\">128</span>)    │        <span style=\"color: #00af00; text-decoration-color: #00af00\">73,856</span> │\n",
       "├─────────────────────────────────┼────────────────────────┼───────────────┤\n",
       "│ max_pooling2d_2 (<span style=\"color: #0087ff; text-decoration-color: #0087ff\">MaxPooling2D</span>)  │ (<span style=\"color: #00d7ff; text-decoration-color: #00d7ff\">None</span>, <span style=\"color: #00af00; text-decoration-color: #00af00\">17</span>, <span style=\"color: #00af00; text-decoration-color: #00af00\">17</span>, <span style=\"color: #00af00; text-decoration-color: #00af00\">128</span>)    │             <span style=\"color: #00af00; text-decoration-color: #00af00\">0</span> │\n",
       "├─────────────────────────────────┼────────────────────────┼───────────────┤\n",
       "│ flatten (<span style=\"color: #0087ff; text-decoration-color: #0087ff\">Flatten</span>)               │ (<span style=\"color: #00d7ff; text-decoration-color: #00d7ff\">None</span>, <span style=\"color: #00af00; text-decoration-color: #00af00\">36992</span>)          │             <span style=\"color: #00af00; text-decoration-color: #00af00\">0</span> │\n",
       "├─────────────────────────────────┼────────────────────────┼───────────────┤\n",
       "│ dense (<span style=\"color: #0087ff; text-decoration-color: #0087ff\">Dense</span>)                   │ (<span style=\"color: #00d7ff; text-decoration-color: #00d7ff\">None</span>, <span style=\"color: #00af00; text-decoration-color: #00af00\">128</span>)            │     <span style=\"color: #00af00; text-decoration-color: #00af00\">4,735,104</span> │\n",
       "├─────────────────────────────────┼────────────────────────┼───────────────┤\n",
       "│ dense_1 (<span style=\"color: #0087ff; text-decoration-color: #0087ff\">Dense</span>)                 │ (<span style=\"color: #00d7ff; text-decoration-color: #00d7ff\">None</span>, <span style=\"color: #00af00; text-decoration-color: #00af00\">11</span>)             │         <span style=\"color: #00af00; text-decoration-color: #00af00\">1,419</span> │\n",
       "└─────────────────────────────────┴────────────────────────┴───────────────┘\n",
       "</pre>\n"
      ],
      "text/plain": [
       "┏━━━━━━━━━━━━━━━━━━━━━━━━━━━━━━━━━┳━━━━━━━━━━━━━━━━━━━━━━━━┳━━━━━━━━━━━━━━━┓\n",
       "┃\u001b[1m \u001b[0m\u001b[1mLayer (type)                   \u001b[0m\u001b[1m \u001b[0m┃\u001b[1m \u001b[0m\u001b[1mOutput Shape          \u001b[0m\u001b[1m \u001b[0m┃\u001b[1m \u001b[0m\u001b[1m      Param #\u001b[0m\u001b[1m \u001b[0m┃\n",
       "┡━━━━━━━━━━━━━━━━━━━━━━━━━━━━━━━━━╇━━━━━━━━━━━━━━━━━━━━━━━━╇━━━━━━━━━━━━━━━┩\n",
       "│ conv2d (\u001b[38;5;33mConv2D\u001b[0m)                 │ (\u001b[38;5;45mNone\u001b[0m, \u001b[38;5;34m148\u001b[0m, \u001b[38;5;34m148\u001b[0m, \u001b[38;5;34m32\u001b[0m)   │           \u001b[38;5;34m896\u001b[0m │\n",
       "├─────────────────────────────────┼────────────────────────┼───────────────┤\n",
       "│ max_pooling2d (\u001b[38;5;33mMaxPooling2D\u001b[0m)    │ (\u001b[38;5;45mNone\u001b[0m, \u001b[38;5;34m74\u001b[0m, \u001b[38;5;34m74\u001b[0m, \u001b[38;5;34m32\u001b[0m)     │             \u001b[38;5;34m0\u001b[0m │\n",
       "├─────────────────────────────────┼────────────────────────┼───────────────┤\n",
       "│ conv2d_1 (\u001b[38;5;33mConv2D\u001b[0m)               │ (\u001b[38;5;45mNone\u001b[0m, \u001b[38;5;34m72\u001b[0m, \u001b[38;5;34m72\u001b[0m, \u001b[38;5;34m64\u001b[0m)     │        \u001b[38;5;34m18,496\u001b[0m │\n",
       "├─────────────────────────────────┼────────────────────────┼───────────────┤\n",
       "│ max_pooling2d_1 (\u001b[38;5;33mMaxPooling2D\u001b[0m)  │ (\u001b[38;5;45mNone\u001b[0m, \u001b[38;5;34m36\u001b[0m, \u001b[38;5;34m36\u001b[0m, \u001b[38;5;34m64\u001b[0m)     │             \u001b[38;5;34m0\u001b[0m │\n",
       "├─────────────────────────────────┼────────────────────────┼───────────────┤\n",
       "│ conv2d_2 (\u001b[38;5;33mConv2D\u001b[0m)               │ (\u001b[38;5;45mNone\u001b[0m, \u001b[38;5;34m34\u001b[0m, \u001b[38;5;34m34\u001b[0m, \u001b[38;5;34m128\u001b[0m)    │        \u001b[38;5;34m73,856\u001b[0m │\n",
       "├─────────────────────────────────┼────────────────────────┼───────────────┤\n",
       "│ max_pooling2d_2 (\u001b[38;5;33mMaxPooling2D\u001b[0m)  │ (\u001b[38;5;45mNone\u001b[0m, \u001b[38;5;34m17\u001b[0m, \u001b[38;5;34m17\u001b[0m, \u001b[38;5;34m128\u001b[0m)    │             \u001b[38;5;34m0\u001b[0m │\n",
       "├─────────────────────────────────┼────────────────────────┼───────────────┤\n",
       "│ flatten (\u001b[38;5;33mFlatten\u001b[0m)               │ (\u001b[38;5;45mNone\u001b[0m, \u001b[38;5;34m36992\u001b[0m)          │             \u001b[38;5;34m0\u001b[0m │\n",
       "├─────────────────────────────────┼────────────────────────┼───────────────┤\n",
       "│ dense (\u001b[38;5;33mDense\u001b[0m)                   │ (\u001b[38;5;45mNone\u001b[0m, \u001b[38;5;34m128\u001b[0m)            │     \u001b[38;5;34m4,735,104\u001b[0m │\n",
       "├─────────────────────────────────┼────────────────────────┼───────────────┤\n",
       "│ dense_1 (\u001b[38;5;33mDense\u001b[0m)                 │ (\u001b[38;5;45mNone\u001b[0m, \u001b[38;5;34m11\u001b[0m)             │         \u001b[38;5;34m1,419\u001b[0m │\n",
       "└─────────────────────────────────┴────────────────────────┴───────────────┘\n"
      ]
     },
     "metadata": {},
     "output_type": "display_data"
    },
    {
     "data": {
      "text/html": [
       "<pre style=\"white-space:pre;overflow-x:auto;line-height:normal;font-family:Menlo,'DejaVu Sans Mono',consolas,'Courier New',monospace\"><span style=\"font-weight: bold\"> Total params: </span><span style=\"color: #00af00; text-decoration-color: #00af00\">4,829,771</span> (18.42 MB)\n",
       "</pre>\n"
      ],
      "text/plain": [
       "\u001b[1m Total params: \u001b[0m\u001b[38;5;34m4,829,771\u001b[0m (18.42 MB)\n"
      ]
     },
     "metadata": {},
     "output_type": "display_data"
    },
    {
     "data": {
      "text/html": [
       "<pre style=\"white-space:pre;overflow-x:auto;line-height:normal;font-family:Menlo,'DejaVu Sans Mono',consolas,'Courier New',monospace\"><span style=\"font-weight: bold\"> Trainable params: </span><span style=\"color: #00af00; text-decoration-color: #00af00\">4,829,771</span> (18.42 MB)\n",
       "</pre>\n"
      ],
      "text/plain": [
       "\u001b[1m Trainable params: \u001b[0m\u001b[38;5;34m4,829,771\u001b[0m (18.42 MB)\n"
      ]
     },
     "metadata": {},
     "output_type": "display_data"
    },
    {
     "data": {
      "text/html": [
       "<pre style=\"white-space:pre;overflow-x:auto;line-height:normal;font-family:Menlo,'DejaVu Sans Mono',consolas,'Courier New',monospace\"><span style=\"font-weight: bold\"> Non-trainable params: </span><span style=\"color: #00af00; text-decoration-color: #00af00\">0</span> (0.00 B)\n",
       "</pre>\n"
      ],
      "text/plain": [
       "\u001b[1m Non-trainable params: \u001b[0m\u001b[38;5;34m0\u001b[0m (0.00 B)\n"
      ]
     },
     "metadata": {},
     "output_type": "display_data"
    }
   ],
   "source": [
    "model.summary()"
   ]
  },
  {
   "cell_type": "code",
   "execution_count": 12,
   "metadata": {},
   "outputs": [
    {
     "name": "stdout",
     "output_type": "stream",
     "text": [
      "Epoch 1/10\n",
      "195/195 - 85s - 438ms/step - accuracy: 0.3235 - f1_score: 0.2229 - loss: 1.8902 - precision: 0.8529 - recall: 0.1332 - val_accuracy: 0.3828 - val_f1_score: 0.2802 - val_loss: 1.6581 - val_precision: 0.7702 - val_recall: 0.1749\n",
      "Epoch 2/10\n",
      "195/195 - 83s - 424ms/step - accuracy: 0.5390 - f1_score: 0.4408 - loss: 1.2804 - precision: 0.7951 - recall: 0.3222 - val_accuracy: 0.6310 - val_f1_score: 0.5232 - val_loss: 1.1046 - val_precision: 0.7547 - val_recall: 0.4734\n",
      "Epoch 3/10\n",
      "195/195 - 138s - 707ms/step - accuracy: 0.6851 - f1_score: 0.6008 - loss: 0.8892 - precision: 0.8038 - recall: 0.5508 - val_accuracy: 0.6914 - val_f1_score: 0.5980 - val_loss: 0.8667 - val_precision: 0.7881 - val_recall: 0.5687\n",
      "Epoch 4/10\n",
      "195/195 - 110s - 563ms/step - accuracy: 0.7550 - f1_score: 0.6720 - loss: 0.6669 - precision: 0.8369 - recall: 0.6778 - val_accuracy: 0.7930 - val_f1_score: 0.7251 - val_loss: 0.5911 - val_precision: 0.8464 - val_recall: 0.7317\n",
      "Epoch 5/10\n",
      "195/195 - 91s - 467ms/step - accuracy: 0.8162 - f1_score: 0.7475 - loss: 0.5364 - precision: 0.8697 - recall: 0.7642 - val_accuracy: 0.7619 - val_f1_score: 0.6503 - val_loss: 0.6877 - val_precision: 0.8215 - val_recall: 0.7335\n",
      "Epoch 6/10\n",
      "195/195 - 90s - 461ms/step - accuracy: 0.8426 - f1_score: 0.7792 - loss: 0.4445 - precision: 0.8883 - recall: 0.8026 - val_accuracy: 0.8544 - val_f1_score: 0.7729 - val_loss: 0.4413 - val_precision: 0.8853 - val_recall: 0.8059\n",
      "Epoch 7/10\n",
      "195/195 - 91s - 469ms/step - accuracy: 0.8718 - f1_score: 0.7888 - loss: 0.3750 - precision: 0.9042 - recall: 0.8414 - val_accuracy: 0.8654 - val_f1_score: 0.7930 - val_loss: 0.4029 - val_precision: 0.9000 - val_recall: 0.8407\n",
      "Epoch 8/10\n",
      "195/195 - 96s - 490ms/step - accuracy: 0.8782 - f1_score: 0.8227 - loss: 0.3551 - precision: 0.9053 - recall: 0.8519 - val_accuracy: 0.8883 - val_f1_score: 0.8046 - val_loss: 0.3795 - val_precision: 0.9163 - val_recall: 0.8617\n",
      "Epoch 9/10\n",
      "195/195 - 105s - 538ms/step - accuracy: 0.9027 - f1_score: 0.8352 - loss: 0.2845 - precision: 0.9221 - recall: 0.8821 - val_accuracy: 0.9194 - val_f1_score: 0.8527 - val_loss: 0.2950 - val_precision: 0.9294 - val_recall: 0.9048\n",
      "Epoch 10/10\n",
      "195/195 - 98s - 505ms/step - accuracy: 0.8959 - f1_score: 0.8273 - loss: 0.2915 - precision: 0.9158 - recall: 0.8787 - val_accuracy: 0.9093 - val_f1_score: 0.8419 - val_loss: 0.2913 - val_precision: 0.9194 - val_recall: 0.8984\n"
     ]
    }
   ],
   "source": [
    "#training the model with early stopping\n",
    "early_stopping = EarlyStopping(monitor = 'val_loss',patience = 3, restore_best_weights= True)\n",
    "\n",
    "\n",
    "#fitting the model\n",
    "history_cnn = model.fit(\n",
    "    train_generators,\n",
    "    epochs = 10,\n",
    "    validation_data = val_generators,\n",
    "    verbose = 2\n",
    ")"
   ]
  },
  {
   "cell_type": "code",
   "execution_count": 27,
   "metadata": {},
   "outputs": [
    {
     "data": {
      "text/plain": [
       "Text(0.5, 1.0, 'Accuracy')"
      ]
     },
     "execution_count": 27,
     "metadata": {},
     "output_type": "execute_result"
    },
    {
     "data": {
      "image/png": "[encoded data removed]",
      "text/plain": [
       "<Figure size 500x300 with 1 Axes>"
      ]
     },
     "metadata": {},
     "output_type": "display_data"
    }
   ],
   "source": [
    "#plot the training and validation accuracy and loss\n",
    "plt.figure(figsize = (5,3))\n",
    "\n",
    "#accuracy  plot\n",
    "plt.plot(history_cnn.history['accuracy'],label = 'accuracy')\n",
    "plt.plot(history_cnn.history['val_accuracy'],label = 'val_accuracy')\n",
    "plt.xlabel('Epoch')\n",
    "plt.ylabel('Accuracy')\n",
    "plt.ylim([0,1])\n",
    "plt.legend(loc = 'lower right')\n",
    "plt.title('Accuracy')\n",
    "\n"
   ]
  },
  {
   "cell_type": "code",
   "execution_count": 25,
   "metadata": {},
   "outputs": [
    {
     "data": {
      "image/png": "[encoded data removed]",
      "text/plain": [
       "<Figure size 500x300 with 1 Axes>"
      ]
     },
     "metadata": {},
     "output_type": "display_data"
    }
   ],
   "source": [
    "plt.figure(figsize = (5,3))\n",
    "plt.plot(history_cnn.history['loss'],label = 'loss')\n",
    "plt.plot(history_cnn.history['val_loss'],label = 'val_loss')\n",
    "plt.title('Loss')\n",
    "plt.xlabel('Epoch')\n",
    "plt.ylabel('Loss')\n",
    "plt.legend(loc = 'upper right')\n",
    "plt.show(7)"
   ]
  },
  {
   "cell_type": "code",
   "execution_count": 111,
   "metadata": {},
   "outputs": [],
   "source": [
    "#saving the model\n",
    "with open('cnn_model1.pkl','wb') as file:\n",
    "    pickle.dump(model,file)"
   ]
  },
  {
   "cell_type": "code",
   "execution_count": 113,
   "metadata": {},
   "outputs": [
    {
     "name": "stdout",
     "output_type": "stream",
     "text": [
      "\u001b[1m100/100\u001b[0m \u001b[32m━━━━━━━━━━━━━━━━━━━━\u001b[0m\u001b[37m\u001b[0m \u001b[1m19s\u001b[0m 194ms/step\n"
     ]
    }
   ],
   "source": [
    "with open('cnn_model1.pkl','rb') as file:\n",
    "    loading = pickle.load(file)\n",
    "\n",
    "predicted = loading.predict(test_generators)"
   ]
  },
  {
   "cell_type": "code",
   "execution_count": 118,
   "metadata": {},
   "outputs": [
    {
     "name": "stdout",
     "output_type": "stream",
     "text": [
      "100/100 - 18s - 176ms/step - accuracy: 0.9583 - f1_score: 0.8729 - loss: 0.1362 - precision: 0.9612 - recall: 0.9554\n"
     ]
    }
   ],
   "source": [
    "#evaluate the model\n",
    "test_loss,test_acc,tes_f1score,test_pre,test_recall = loading.evaluate(test_generators,verbose = 2)"
   ]
  },
  {
   "cell_type": "code",
   "execution_count": null,
   "metadata": {},
   "outputs": [
    {
     "name": "stdout",
     "output_type": "stream",
     "text": [
      "100/100 - 58s - 575ms/step - accuracy: 0.9416 - f1_score: 0.8843 - loss: 0.1704 - precision: 0.9511 - recall: 0.9332\n",
      "Test accuracy : 0.9416,Loss :  0.1704\n"
     ]
    }
   ],
   "source": [
    "#evaluate the model\n",
    "test_loss,test_acc,tes_f1score,test_pre,test_recall = model.evaluate(test_generators,verbose = 2)\n",
    "print(f\"Test accuracy : {test_acc :.4f},Loss : {test_loss : .4f}\")"
   ]
  },
  {
   "cell_type": "code",
   "execution_count": null,
   "metadata": {},
   "outputs": [],
   "source": [
    "#loading the VGG16 model with  neural network and without the last fully connected layers\n",
    "base_model = VGG16(weights = 'imagenet',include_top = False,input_shape = (224,224,3))"
   ]
  },
  {
   "cell_type": "code",
   "execution_count": 59,
   "metadata": {},
   "outputs": [],
   "source": [
    "#freeze the base model layers\n",
    "base_model.trainable = False"
   ]
  },
  {
   "cell_type": "code",
   "execution_count": 60,
   "metadata": {},
   "outputs": [],
   "source": [
    "#adding custom layers\n",
    "inputs = Input(shape = (224,224,3))\n",
    "x = base_model(inputs,training = False)\n",
    "x = Flatten()(x)\n",
    "x = Dense(256,activation = 'relu')(x)\n",
    "x = Dropout(0.5)(x)\n",
    "\n",
    "outputs = Dense(11,activation = 'softmax')(x)"
   ]
  },
  {
   "cell_type": "code",
   "execution_count": 61,
   "metadata": {},
   "outputs": [],
   "source": [
    "#model \n",
    "model = Model(inputs,outputs)"
   ]
  },
  {
   "cell_type": "code",
   "execution_count": 62,
   "metadata": {},
   "outputs": [],
   "source": [
    "#compiling the model\n",
    "model.compile(optimizer = SGD(learning_rate = 0.01),\n",
    "              loss = 'categorical_crossentropy',\n",
    "              metrics = ['accuracy','recall','precision','f1_score']\n",
    ")"
   ]
  },
  {
   "cell_type": "code",
   "execution_count": 32,
   "metadata": {},
   "outputs": [
    {
     "data": {
      "text/html": [
       "<pre style=\"white-space:pre;overflow-x:auto;line-height:normal;font-family:Menlo,'DejaVu Sans Mono',consolas,'Courier New',monospace\"><span style=\"font-weight: bold\">Model: \"functional_38\"</span>\n",
       "</pre>\n"
      ],
      "text/plain": [
       "\u001b[1mModel: \"functional_38\"\u001b[0m\n"
      ]
     },
     "metadata": {},
     "output_type": "display_data"
    },
    {
     "data": {
      "text/html": [
       "<pre style=\"white-space:pre;overflow-x:auto;line-height:normal;font-family:Menlo,'DejaVu Sans Mono',consolas,'Courier New',monospace\">┏━━━━━━━━━━━━━━━━━━━━━━━━━━━━━━━━━┳━━━━━━━━━━━━━━━━━━━━━━━━┳━━━━━━━━━━━━━━━┓\n",
       "┃<span style=\"font-weight: bold\"> Layer (type)                    </span>┃<span style=\"font-weight: bold\"> Output Shape           </span>┃<span style=\"font-weight: bold\">       Param # </span>┃\n",
       "┡━━━━━━━━━━━━━━━━━━━━━━━━━━━━━━━━━╇━━━━━━━━━━━━━━━━━━━━━━━━╇━━━━━━━━━━━━━━━┩\n",
       "│ input_layer_3 (<span style=\"color: #0087ff; text-decoration-color: #0087ff\">InputLayer</span>)      │ (<span style=\"color: #00d7ff; text-decoration-color: #00d7ff\">None</span>, <span style=\"color: #00af00; text-decoration-color: #00af00\">224</span>, <span style=\"color: #00af00; text-decoration-color: #00af00\">224</span>, <span style=\"color: #00af00; text-decoration-color: #00af00\">3</span>)    │             <span style=\"color: #00af00; text-decoration-color: #00af00\">0</span> │\n",
       "├─────────────────────────────────┼────────────────────────┼───────────────┤\n",
       "│ vgg16 (<span style=\"color: #0087ff; text-decoration-color: #0087ff\">Functional</span>)              │ (<span style=\"color: #00d7ff; text-decoration-color: #00d7ff\">None</span>, <span style=\"color: #00af00; text-decoration-color: #00af00\">7</span>, <span style=\"color: #00af00; text-decoration-color: #00af00\">7</span>, <span style=\"color: #00af00; text-decoration-color: #00af00\">512</span>)      │    <span style=\"color: #00af00; text-decoration-color: #00af00\">14,714,688</span> │\n",
       "├─────────────────────────────────┼────────────────────────┼───────────────┤\n",
       "│ flatten_2 (<span style=\"color: #0087ff; text-decoration-color: #0087ff\">Flatten</span>)             │ (<span style=\"color: #00d7ff; text-decoration-color: #00d7ff\">None</span>, <span style=\"color: #00af00; text-decoration-color: #00af00\">25088</span>)          │             <span style=\"color: #00af00; text-decoration-color: #00af00\">0</span> │\n",
       "├─────────────────────────────────┼────────────────────────┼───────────────┤\n",
       "│ dense_4 (<span style=\"color: #0087ff; text-decoration-color: #0087ff\">Dense</span>)                 │ (<span style=\"color: #00d7ff; text-decoration-color: #00d7ff\">None</span>, <span style=\"color: #00af00; text-decoration-color: #00af00\">256</span>)            │     <span style=\"color: #00af00; text-decoration-color: #00af00\">6,422,784</span> │\n",
       "├─────────────────────────────────┼────────────────────────┼───────────────┤\n",
       "│ dropout (<span style=\"color: #0087ff; text-decoration-color: #0087ff\">Dropout</span>)               │ (<span style=\"color: #00d7ff; text-decoration-color: #00d7ff\">None</span>, <span style=\"color: #00af00; text-decoration-color: #00af00\">256</span>)            │             <span style=\"color: #00af00; text-decoration-color: #00af00\">0</span> │\n",
       "├─────────────────────────────────┼────────────────────────┼───────────────┤\n",
       "│ dense_5 (<span style=\"color: #0087ff; text-decoration-color: #0087ff\">Dense</span>)                 │ (<span style=\"color: #00d7ff; text-decoration-color: #00d7ff\">None</span>, <span style=\"color: #00af00; text-decoration-color: #00af00\">11</span>)             │         <span style=\"color: #00af00; text-decoration-color: #00af00\">2,827</span> │\n",
       "└─────────────────────────────────┴────────────────────────┴───────────────┘\n",
       "</pre>\n"
      ],
      "text/plain": [
       "┏━━━━━━━━━━━━━━━━━━━━━━━━━━━━━━━━━┳━━━━━━━━━━━━━━━━━━━━━━━━┳━━━━━━━━━━━━━━━┓\n",
       "┃\u001b[1m \u001b[0m\u001b[1mLayer (type)                   \u001b[0m\u001b[1m \u001b[0m┃\u001b[1m \u001b[0m\u001b[1mOutput Shape          \u001b[0m\u001b[1m \u001b[0m┃\u001b[1m \u001b[0m\u001b[1m      Param #\u001b[0m\u001b[1m \u001b[0m┃\n",
       "┡━━━━━━━━━━━━━━━━━━━━━━━━━━━━━━━━━╇━━━━━━━━━━━━━━━━━━━━━━━━╇━━━━━━━━━━━━━━━┩\n",
       "│ input_layer_3 (\u001b[38;5;33mInputLayer\u001b[0m)      │ (\u001b[38;5;45mNone\u001b[0m, \u001b[38;5;34m224\u001b[0m, \u001b[38;5;34m224\u001b[0m, \u001b[38;5;34m3\u001b[0m)    │             \u001b[38;5;34m0\u001b[0m │\n",
       "├─────────────────────────────────┼────────────────────────┼───────────────┤\n",
       "│ vgg16 (\u001b[38;5;33mFunctional\u001b[0m)              │ (\u001b[38;5;45mNone\u001b[0m, \u001b[38;5;34m7\u001b[0m, \u001b[38;5;34m7\u001b[0m, \u001b[38;5;34m512\u001b[0m)      │    \u001b[38;5;34m14,714,688\u001b[0m │\n",
       "├─────────────────────────────────┼────────────────────────┼───────────────┤\n",
       "│ flatten_2 (\u001b[38;5;33mFlatten\u001b[0m)             │ (\u001b[38;5;45mNone\u001b[0m, \u001b[38;5;34m25088\u001b[0m)          │             \u001b[38;5;34m0\u001b[0m │\n",
       "├─────────────────────────────────┼────────────────────────┼───────────────┤\n",
       "│ dense_4 (\u001b[38;5;33mDense\u001b[0m)                 │ (\u001b[38;5;45mNone\u001b[0m, \u001b[38;5;34m256\u001b[0m)            │     \u001b[38;5;34m6,422,784\u001b[0m │\n",
       "├─────────────────────────────────┼────────────────────────┼───────────────┤\n",
       "│ dropout (\u001b[38;5;33mDropout\u001b[0m)               │ (\u001b[38;5;45mNone\u001b[0m, \u001b[38;5;34m256\u001b[0m)            │             \u001b[38;5;34m0\u001b[0m │\n",
       "├─────────────────────────────────┼────────────────────────┼───────────────┤\n",
       "│ dense_5 (\u001b[38;5;33mDense\u001b[0m)                 │ (\u001b[38;5;45mNone\u001b[0m, \u001b[38;5;34m11\u001b[0m)             │         \u001b[38;5;34m2,827\u001b[0m │\n",
       "└─────────────────────────────────┴────────────────────────┴───────────────┘\n"
      ]
     },
     "metadata": {},
     "output_type": "display_data"
    },
    {
     "data": {
      "text/html": [
       "<pre style=\"white-space:pre;overflow-x:auto;line-height:normal;font-family:Menlo,'DejaVu Sans Mono',consolas,'Courier New',monospace\"><span style=\"font-weight: bold\"> Total params: </span><span style=\"color: #00af00; text-decoration-color: #00af00\">21,140,299</span> (80.64 MB)\n",
       "</pre>\n"
      ],
      "text/plain": [
       "\u001b[1m Total params: \u001b[0m\u001b[38;5;34m21,140,299\u001b[0m (80.64 MB)\n"
      ]
     },
     "metadata": {},
     "output_type": "display_data"
    },
    {
     "data": {
      "text/html": [
       "<pre style=\"white-space:pre;overflow-x:auto;line-height:normal;font-family:Menlo,'DejaVu Sans Mono',consolas,'Courier New',monospace\"><span style=\"font-weight: bold\"> Trainable params: </span><span style=\"color: #00af00; text-decoration-color: #00af00\">6,425,611</span> (24.51 MB)\n",
       "</pre>\n"
      ],
      "text/plain": [
       "\u001b[1m Trainable params: \u001b[0m\u001b[38;5;34m6,425,611\u001b[0m (24.51 MB)\n"
      ]
     },
     "metadata": {},
     "output_type": "display_data"
    },
    {
     "data": {
      "text/html": [
       "<pre style=\"white-space:pre;overflow-x:auto;line-height:normal;font-family:Menlo,'DejaVu Sans Mono',consolas,'Courier New',monospace\"><span style=\"font-weight: bold\"> Non-trainable params: </span><span style=\"color: #00af00; text-decoration-color: #00af00\">14,714,688</span> (56.13 MB)\n",
       "</pre>\n"
      ],
      "text/plain": [
       "\u001b[1m Non-trainable params: \u001b[0m\u001b[38;5;34m14,714,688\u001b[0m (56.13 MB)\n"
      ]
     },
     "metadata": {},
     "output_type": "display_data"
    }
   ],
   "source": [
    "#model summary\n",
    "model.summary()"
   ]
  },
  {
   "cell_type": "code",
   "execution_count": 19,
   "metadata": {},
   "outputs": [
    {
     "name": "stdout",
     "output_type": "stream",
     "text": [
      "Found 6225 images belonging to 11 classes.\n"
     ]
    }
   ],
   "source": [
    "#creating a generator for the training data\n",
    "train_generators = train.flow_from_directory(\n",
    "    train_data,\n",
    "    target_size = (224,224),\n",
    "    batch_size = 32,\n",
    "    class_mode = 'categorical' \n",
    ")"
   ]
  },
  {
   "cell_type": "code",
   "execution_count": 20,
   "metadata": {},
   "outputs": [
    {
     "name": "stdout",
     "output_type": "stream",
     "text": [
      "Found 3187 images belonging to 11 classes.\n"
     ]
    }
   ],
   "source": [
    "test_generators = train.flow_from_directory(\n",
    "    test_data,\n",
    "    target_size = (224,224),\n",
    "    batch_size = 32,\n",
    "    class_mode = 'categorical'\n",
    ")"
   ]
  },
  {
   "cell_type": "code",
   "execution_count": 21,
   "metadata": {},
   "outputs": [
    {
     "name": "stdout",
     "output_type": "stream",
     "text": [
      "Found 1092 images belonging to 11 classes.\n"
     ]
    }
   ],
   "source": [
    "val_generators = train.flow_from_directory(\n",
    "    val_data,\n",
    "    target_size = (224,224),\n",
    "    batch_size = 32,\n",
    "    class_mode = 'categorical'\n",
    ")"
   ]
  },
  {
   "cell_type": "code",
   "execution_count": 67,
   "metadata": {},
   "outputs": [
    {
     "name": "stdout",
     "output_type": "stream",
     "text": [
      "Epoch 1/10\n",
      "\u001b[1m195/195\u001b[0m \u001b[32m━━━━━━━━━━━━━━━━━━━━\u001b[0m\u001b[37m\u001b[0m \u001b[1m1301s\u001b[0m 7s/step - accuracy: 0.1800 - f1_score: 0.0794 - loss: 2.2751 - precision: 0.7590 - recall: 0.0176 - val_accuracy: 0.1712 - val_f1_score: 0.0266 - val_loss: 2.1978 - val_precision: 0.6479 - val_recall: 0.1685\n",
      "Epoch 2/10\n",
      "\u001b[1m195/195\u001b[0m \u001b[32m━━━━━━━━━━━━━━━━━━━━\u001b[0m\u001b[37m\u001b[0m \u001b[1m1362s\u001b[0m 7s/step - accuracy: 0.2173 - f1_score: 0.1074 - loss: 2.1246 - precision: 0.8418 - recall: 0.0912 - val_accuracy: 0.3123 - val_f1_score: 0.1608 - val_loss: 1.9077 - val_precision: 0.9415 - val_recall: 0.1621\n",
      "Epoch 3/10\n",
      "\u001b[1m195/195\u001b[0m \u001b[32m━━━━━━━━━━━━━━━━━━━━\u001b[0m\u001b[37m\u001b[0m \u001b[1m1342s\u001b[0m 7s/step - accuracy: 0.2629 - f1_score: 0.1553 - loss: 1.9863 - precision: 0.9011 - recall: 0.1215 - val_accuracy: 0.3663 - val_f1_score: 0.2050 - val_loss: 1.7879 - val_precision: 0.9010 - val_recall: 0.1667\n",
      "Epoch 4/10\n",
      "\u001b[1m195/195\u001b[0m \u001b[32m━━━━━━━━━━━━━━━━━━━━\u001b[0m\u001b[37m\u001b[0m \u001b[1m1184s\u001b[0m 6s/step - accuracy: 0.2875 - f1_score: 0.1781 - loss: 1.8833 - precision: 0.9141 - recall: 0.1374 - val_accuracy: 0.4496 - val_f1_score: 0.2822 - val_loss: 1.6076 - val_precision: 0.9457 - val_recall: 0.1593\n",
      "Epoch 5/10\n",
      "\u001b[1m195/195\u001b[0m \u001b[32m━━━━━━━━━━━━━━━━━━━━\u001b[0m\u001b[37m\u001b[0m \u001b[1m1251s\u001b[0m 6s/step - accuracy: 0.3128 - f1_score: 0.2028 - loss: 1.8184 - precision: 0.9002 - recall: 0.1358 - val_accuracy: 0.4451 - val_f1_score: 0.2895 - val_loss: 1.5216 - val_precision: 0.8679 - val_recall: 0.1685\n",
      "Epoch 6/10\n",
      "\u001b[1m195/195\u001b[0m \u001b[32m━━━━━━━━━━━━━━━━━━━━\u001b[0m\u001b[37m\u001b[0m \u001b[1m1285s\u001b[0m 7s/step - accuracy: 0.3470 - f1_score: 0.2386 - loss: 1.7086 - precision: 0.8913 - recall: 0.1658 - val_accuracy: 0.5348 - val_f1_score: 0.4092 - val_loss: 1.4358 - val_precision: 0.9505 - val_recall: 0.1584\n",
      "Epoch 7/10\n",
      "\u001b[1m195/195\u001b[0m \u001b[32m━━━━━━━━━━━━━━━━━━━━\u001b[0m\u001b[37m\u001b[0m \u001b[1m1229s\u001b[0m 6s/step - accuracy: 0.3626 - f1_score: 0.2583 - loss: 1.6867 - precision: 0.8810 - recall: 0.1707 - val_accuracy: 0.5705 - val_f1_score: 0.4212 - val_loss: 1.3898 - val_precision: 0.9538 - val_recall: 0.1703\n",
      "Epoch 8/10\n",
      "\u001b[1m195/195\u001b[0m \u001b[32m━━━━━━━━━━━━━━━━━━━━\u001b[0m\u001b[37m\u001b[0m \u001b[1m1270s\u001b[0m 7s/step - accuracy: 0.3881 - f1_score: 0.2823 - loss: 1.6380 - precision: 0.8702 - recall: 0.1736 - val_accuracy: 0.5623 - val_f1_score: 0.4232 - val_loss: 1.2746 - val_precision: 0.9245 - val_recall: 0.2353\n",
      "Epoch 9/10\n",
      "\u001b[1m195/195\u001b[0m \u001b[32m━━━━━━━━━━━━━━━━━━━━\u001b[0m\u001b[37m\u001b[0m \u001b[1m1542s\u001b[0m 8s/step - accuracy: 0.4087 - f1_score: 0.3049 - loss: 1.5433 - precision: 0.8530 - recall: 0.1992 - val_accuracy: 0.6346 - val_f1_score: 0.4968 - val_loss: 1.2593 - val_precision: 0.9469 - val_recall: 0.2125\n",
      "Epoch 10/10\n",
      "\u001b[1m195/195\u001b[0m \u001b[32m━━━━━━━━━━━━━━━━━━━━\u001b[0m\u001b[37m\u001b[0m \u001b[1m1530s\u001b[0m 8s/step - accuracy: 0.4226 - f1_score: 0.3218 - loss: 1.5044 - precision: 0.8419 - recall: 0.2120 - val_accuracy: 0.5522 - val_f1_score: 0.4388 - val_loss: 1.3929 - val_precision: 0.9580 - val_recall: 0.2088\n"
     ]
    }
   ],
   "source": [
    "#fitting the model\n",
    "history_vgg = model.fit(\n",
    "    train_generators,\n",
    "    epochs = 10,\n",
    "    batch_size = 32,\n",
    "    validation_data = val_generators\n",
    ")"
   ]
  },
  {
   "cell_type": "code",
   "execution_count": 75,
   "metadata": {},
   "outputs": [],
   "source": [
    "with open('vgg_model1.pkl','wb') as file:\n",
    "    pickle.dump(model,file)"
   ]
  },
  {
   "cell_type": "code",
   "execution_count": 23,
   "metadata": {},
   "outputs": [],
   "source": [
    "with open('vgg_model1.pkl','rb') as file:\n",
    "    trained_model = pickle.load(file)\n",
    "\n",
    "#pred = trained_model.predict(test_generators)\n"
   ]
  },
  {
   "cell_type": "code",
   "execution_count": 24,
   "metadata": {},
   "outputs": [
    {
     "name": "stdout",
     "output_type": "stream",
     "text": [
      "100/100 - 676s - 7s/step - accuracy: 0.5293 - f1_score: 0.4284 - loss: 1.4080 - precision: 0.9745 - recall: 0.2040\n"
     ]
    }
   ],
   "source": [
    "#evaluate the model\n",
    "test_loss,test_acc,tes_f1score,test_pre,test_recall = trained_model.evaluate(test_generators,verbose = 2)"
   ]
  },
  {
   "cell_type": "code",
   "execution_count": 28,
   "metadata": {},
   "outputs": [],
   "source": [
    "# Create the ResNet50 model\n",
    "resnet_model = Sequential()\n",
    "resnet = tf.keras.applications.ResNet50(include_top=False,\n",
    "                                        input_shape=(224, 224, 3),\n",
    "                                        pooling='avg',\n",
    "                                        weights='imagenet')\n",
    "                                        \n",
    "                                                  "
   ]
  },
  {
   "cell_type": "code",
   "execution_count": 29,
   "metadata": {},
   "outputs": [],
   "source": [
    "# Freeze the layers of the pretrained model\n",
    "for layer in resnet.layers:\n",
    "    layer.trainable = False\n",
    "\n",
    "resnet_model.add(resnet)"
   ]
  },
  {
   "cell_type": "code",
   "execution_count": 30,
   "metadata": {},
   "outputs": [],
   "source": [
    "# Add custom layers for classification\n",
    "resnet_model.add(layers.Flatten())\n",
    "resnet_model.add(layers.Dense(512, activation='relu'))\n",
    "resnet_model.add(layers.Dense(11, activation='softmax'))\n",
    "\n",
    "# Compile the model\n",
    "resnet_model.compile(optimizer=Adam(learning_rate =0.001), loss='categorical_crossentropy', metrics=['accuracy','recall','precision','f1_score'])"
   ]
  },
  {
   "cell_type": "code",
   "execution_count": 31,
   "metadata": {},
   "outputs": [
    {
     "name": "stdout",
     "output_type": "stream",
     "text": [
      "Epoch 1/10\n",
      "\u001b[1m195/195\u001b[0m \u001b[32m━━━━━━━━━━━━━━━━━━━━\u001b[0m\u001b[37m\u001b[0m \u001b[1m493s\u001b[0m 3s/step - accuracy: 0.1697 - f1_score: 0.1099 - loss: 2.3388 - precision: 0.7842 - recall: 0.0133 - val_accuracy: 0.1804 - val_f1_score: 0.0582 - val_loss: 2.2201 - val_precision: 0.7857 - val_recall: 0.0705\n",
      "Epoch 2/10\n",
      "\u001b[1m195/195\u001b[0m \u001b[32m━━━━━━━━━━━━━━━━━━━━\u001b[0m\u001b[37m\u001b[0m \u001b[1m458s\u001b[0m 2s/step - accuracy: 0.2296 - f1_score: 0.1492 - loss: 2.1359 - precision: 0.9063 - recall: 0.0579 - val_accuracy: 0.2189 - val_f1_score: 0.1046 - val_loss: 2.1264 - val_precision: 0.9231 - val_recall: 0.0440\n",
      "Epoch 3/10\n",
      "\u001b[1m195/195\u001b[0m \u001b[32m━━━━━━━━━━━━━━━━━━━━\u001b[0m\u001b[37m\u001b[0m \u001b[1m451s\u001b[0m 2s/step - accuracy: 0.2490 - f1_score: 0.1689 - loss: 2.0745 - precision: 0.9141 - recall: 0.0598 - val_accuracy: 0.2097 - val_f1_score: 0.1083 - val_loss: 2.0868 - val_precision: 0.7034 - val_recall: 0.0934\n",
      "Epoch 4/10\n",
      "\u001b[1m195/195\u001b[0m \u001b[32m━━━━━━━━━━━━━━━━━━━━\u001b[0m\u001b[37m\u001b[0m \u001b[1m417s\u001b[0m 2s/step - accuracy: 0.2592 - f1_score: 0.1769 - loss: 2.0347 - precision: 0.8265 - recall: 0.0651 - val_accuracy: 0.2756 - val_f1_score: 0.1797 - val_loss: 2.0366 - val_precision: 0.9143 - val_recall: 0.0586\n",
      "Epoch 5/10\n",
      "\u001b[1m195/195\u001b[0m \u001b[32m━━━━━━━━━━━━━━━━━━━━\u001b[0m\u001b[37m\u001b[0m \u001b[1m412s\u001b[0m 2s/step - accuracy: 0.2803 - f1_score: 0.2028 - loss: 1.9826 - precision: 0.8628 - recall: 0.0684 - val_accuracy: 0.2592 - val_f1_score: 0.1582 - val_loss: 1.9948 - val_precision: 0.8571 - val_recall: 0.0549\n",
      "Epoch 6/10\n",
      "\u001b[1m195/195\u001b[0m \u001b[32m━━━━━━━━━━━━━━━━━━━━\u001b[0m\u001b[37m\u001b[0m \u001b[1m402s\u001b[0m 2s/step - accuracy: 0.2844 - f1_score: 0.2052 - loss: 1.9512 - precision: 0.8693 - recall: 0.0689 - val_accuracy: 0.2665 - val_f1_score: 0.1647 - val_loss: 2.0309 - val_precision: 0.8980 - val_recall: 0.0403\n",
      "Epoch 7/10\n",
      "\u001b[1m195/195\u001b[0m \u001b[32m━━━━━━━━━━━━━━━━━━━━\u001b[0m\u001b[37m\u001b[0m \u001b[1m662s\u001b[0m 3s/step - accuracy: 0.3089 - f1_score: 0.2203 - loss: 1.9193 - precision: 0.8466 - recall: 0.0792 - val_accuracy: 0.2958 - val_f1_score: 0.1962 - val_loss: 2.0094 - val_precision: 0.9367 - val_recall: 0.0678\n",
      "Epoch 8/10\n",
      "\u001b[1m195/195\u001b[0m \u001b[32m━━━━━━━━━━━━━━━━━━━━\u001b[0m\u001b[37m\u001b[0m \u001b[1m460s\u001b[0m 2s/step - accuracy: 0.2975 - f1_score: 0.2163 - loss: 1.9406 - precision: 0.8306 - recall: 0.0784 - val_accuracy: 0.2976 - val_f1_score: 0.2019 - val_loss: 1.9245 - val_precision: 0.7643 - val_recall: 0.0980\n",
      "Epoch 9/10\n",
      "\u001b[1m195/195\u001b[0m \u001b[32m━━━━━━━━━━━━━━━━━━━━\u001b[0m\u001b[37m\u001b[0m \u001b[1m437s\u001b[0m 2s/step - accuracy: 0.3366 - f1_score: 0.2507 - loss: 1.8576 - precision: 0.8359 - recall: 0.0851 - val_accuracy: 0.2445 - val_f1_score: 0.1438 - val_loss: 2.0368 - val_precision: 0.4981 - val_recall: 0.1200\n",
      "Epoch 10/10\n",
      "\u001b[1m195/195\u001b[0m \u001b[32m━━━━━━━━━━━━━━━━━━━━\u001b[0m\u001b[37m\u001b[0m \u001b[1m441s\u001b[0m 2s/step - accuracy: 0.3361 - f1_score: 0.2586 - loss: 1.8524 - precision: 0.8027 - recall: 0.0854 - val_accuracy: 0.3498 - val_f1_score: 0.2374 - val_loss: 1.8510 - val_precision: 0.8476 - val_recall: 0.0815\n"
     ]
    }
   ],
   "source": [
    "#training the model with early stopping\n",
    "early_stopping = EarlyStopping(monitor = 'val_loss',patience = 3, restore_best_weights= True)\n",
    "\n",
    "history_resnet = resnet_model.fit(train_generators, validation_data=val_generators, epochs=10)"
   ]
  },
  {
   "cell_type": "code",
   "execution_count": 32,
   "metadata": {},
   "outputs": [
    {
     "data": {
      "text/plain": [
       "Text(0.5, 1.0, 'Accuracy')"
      ]
     },
     "execution_count": 32,
     "metadata": {},
     "output_type": "execute_result"
    },
    {
     "data": {
      "image/png": "[encoded data removed]",
      "text/plain": [
       "<Figure size 500x300 with 1 Axes>"
      ]
     },
     "metadata": {},
     "output_type": "display_data"
    }
   ],
   "source": [
    "#plot the training and validation accuracy and loss\n",
    "plt.figure(figsize = (5,3))\n",
    "\n",
    "#accuracy  plot\n",
    "plt.plot(history_resnet.history['accuracy'],label = 'accuracy')\n",
    "plt.plot(history_resnet.history['val_accuracy'],label = 'val_accuracy')\n",
    "plt.xlabel('Epoch')\n",
    "plt.ylabel('Accuracy')\n",
    "plt.ylim([0,1])\n",
    "plt.legend(loc = 'lower right')\n",
    "plt.title('Accuracy')"
   ]
  },
  {
   "cell_type": "code",
   "execution_count": 57,
   "metadata": {},
   "outputs": [
    {
     "data": {
      "image/png": "[encoded data removed]",
      "text/plain": [
       "<Figure size 500x300 with 1 Axes>"
      ]
     },
     "metadata": {},
     "output_type": "display_data"
    }
   ],
   "source": [
    "#loss plot\n",
    "plt.figure(figsize = (5,3))\n",
    "plt.plot(history_resnet.history['loss'],label = 'loss')\n",
    "plt.plot(history_resnet.history['val_loss'],label = 'val_loss')\n",
    "plt.title('Line plot for loss')\n",
    "plt.xlabel('Epoch')\n",
    "plt.ylabel('Loss')\n",
    "plt.legend()\n",
    "plt.show(7)"
   ]
  },
  {
   "cell_type": "code",
   "execution_count": 136,
   "metadata": {},
   "outputs": [],
   "source": [
    "with open('resnet.pkl','wb') as file:\n",
    "    pickle.dump(resnet_model,file)"
   ]
  },
  {
   "cell_type": "code",
   "execution_count": 139,
   "metadata": {},
   "outputs": [],
   "source": [
    "with open('resnet.pkl','rb') as file:\n",
    "    resnets = pickle.load(file)\n",
    "\n",
    "#predictors = resnets.predict(test_generators)"
   ]
  },
  {
   "cell_type": "code",
   "execution_count": 141,
   "metadata": {},
   "outputs": [
    {
     "name": "stdout",
     "output_type": "stream",
     "text": [
      "100/100 - 190s - 2s/step - accuracy: 0.3163 - f1_score: 0.2129 - loss: 1.8674 - precision: 0.8368 - recall: 0.0756\n"
     ]
    }
   ],
   "source": [
    "resnet_test = resnets.evaluate(test_generators,verbose = 2)"
   ]
  },
  {
   "cell_type": "code",
   "execution_count": 34,
   "metadata": {},
   "outputs": [],
   "source": [
    "#loading the mobilenet without top layers\n",
    "mobile_model = MobileNet(weights = 'imagenet',include_top = False,input_shape = (224,224,3))\n",
    "\n",
    "#freezeing the model layers\n",
    "mobile_model.trainable = False"
   ]
  },
  {
   "cell_type": "code",
   "execution_count": 35,
   "metadata": {},
   "outputs": [],
   "source": [
    "#adding custom layers\n",
    "x = mobile_model.output\n",
    "x = GlobalAveragePooling2D()(x) #global average pooling layer\n",
    "x = Dense(128,activation = 'relu')(x)  #fully connected layer\n",
    "output = Dense(11,activation = 'softmax')(x) #output layer"
   ]
  },
  {
   "cell_type": "code",
   "execution_count": 36,
   "metadata": {},
   "outputs": [],
   "source": [
    "model_mn = Model(inputs = mobile_model.input,outputs = output)"
   ]
  },
  {
   "cell_type": "code",
   "execution_count": 37,
   "metadata": {},
   "outputs": [],
   "source": [
    "#compile the model\n",
    "model_mn.compile(optimizer = 'adam',\n",
    "                 loss = 'categorical_crossentropy',\n",
    "                 metrics = ['accuracy','recall','precision','f1_score']\n",
    "                 )"
   ]
  },
  {
   "cell_type": "code",
   "execution_count": 38,
   "metadata": {},
   "outputs": [
    {
     "name": "stdout",
     "output_type": "stream",
     "text": [
      "Epoch 1/10\n",
      "\u001b[1m195/195\u001b[0m \u001b[32m━━━━━━━━━━━━━━━━━━━━\u001b[0m\u001b[37m\u001b[0m \u001b[1m117s\u001b[0m 588ms/step - accuracy: 0.7484 - f1_score: 0.6617 - loss: 0.7825 - precision: 0.9150 - recall: 0.6341 - val_accuracy: 0.9533 - val_f1_score: 0.8862 - val_loss: 0.1358 - val_precision: 0.9610 - val_recall: 0.9469\n",
      "Epoch 2/10\n",
      "\u001b[1m195/195\u001b[0m \u001b[32m━━━━━━━━━━━━━━━━━━━━\u001b[0m\u001b[37m\u001b[0m \u001b[1m158s\u001b[0m 811ms/step - accuracy: 0.9735 - f1_score: 0.9345 - loss: 0.0871 - precision: 0.9795 - recall: 0.9691 - val_accuracy: 0.9597 - val_f1_score: 0.9156 - val_loss: 0.1057 - val_precision: 0.9640 - val_recall: 0.9551\n",
      "Epoch 3/10\n",
      "\u001b[1m195/195\u001b[0m \u001b[32m━━━━━━━━━━━━━━━━━━━━\u001b[0m\u001b[37m\u001b[0m \u001b[1m165s\u001b[0m 847ms/step - accuracy: 0.9810 - f1_score: 0.9523 - loss: 0.0637 - precision: 0.9826 - recall: 0.9782 - val_accuracy: 0.9634 - val_f1_score: 0.9080 - val_loss: 0.1139 - val_precision: 0.9650 - val_recall: 0.9606\n",
      "Epoch 4/10\n",
      "\u001b[1m195/195\u001b[0m \u001b[32m━━━━━━━━━━━━━━━━━━━━\u001b[0m\u001b[37m\u001b[0m \u001b[1m203s\u001b[0m 1s/step - accuracy: 0.9838 - f1_score: 0.9656 - loss: 0.0505 - precision: 0.9855 - recall: 0.9820 - val_accuracy: 0.9734 - val_f1_score: 0.9186 - val_loss: 0.0803 - val_precision: 0.9752 - val_recall: 0.9725\n",
      "Epoch 5/10\n",
      "\u001b[1m195/195\u001b[0m \u001b[32m━━━━━━━━━━━━━━━━━━━━\u001b[0m\u001b[37m\u001b[0m \u001b[1m178s\u001b[0m 916ms/step - accuracy: 0.9888 - f1_score: 0.9559 - loss: 0.0328 - precision: 0.9895 - recall: 0.9880 - val_accuracy: 0.9679 - val_f1_score: 0.9386 - val_loss: 0.0798 - val_precision: 0.9679 - val_recall: 0.9661\n",
      "Epoch 6/10\n",
      "\u001b[1m195/195\u001b[0m \u001b[32m━━━━━━━━━━━━━━━━━━━━\u001b[0m\u001b[37m\u001b[0m \u001b[1m164s\u001b[0m 844ms/step - accuracy: 0.9886 - f1_score: 0.9652 - loss: 0.0430 - precision: 0.9889 - recall: 0.9886 - val_accuracy: 0.9844 - val_f1_score: 0.9494 - val_loss: 0.0480 - val_precision: 0.9853 - val_recall: 0.9844\n",
      "Epoch 7/10\n",
      "\u001b[1m195/195\u001b[0m \u001b[32m━━━━━━━━━━━━━━━━━━━━\u001b[0m\u001b[37m\u001b[0m \u001b[1m155s\u001b[0m 796ms/step - accuracy: 0.9891 - f1_score: 0.9743 - loss: 0.0307 - precision: 0.9900 - recall: 0.9883 - val_accuracy: 0.9817 - val_f1_score: 0.9133 - val_loss: 0.0733 - val_precision: 0.9826 - val_recall: 0.9799\n",
      "Epoch 8/10\n",
      "\u001b[1m195/195\u001b[0m \u001b[32m━━━━━━━━━━━━━━━━━━━━\u001b[0m\u001b[37m\u001b[0m \u001b[1m168s\u001b[0m 863ms/step - accuracy: 0.9911 - f1_score: 0.9835 - loss: 0.0314 - precision: 0.9914 - recall: 0.9911 - val_accuracy: 0.9872 - val_f1_score: 0.9429 - val_loss: 0.0398 - val_precision: 0.9881 - val_recall: 0.9853\n",
      "Epoch 9/10\n",
      "\u001b[1m195/195\u001b[0m \u001b[32m━━━━━━━━━━━━━━━━━━━━\u001b[0m\u001b[37m\u001b[0m \u001b[1m166s\u001b[0m 849ms/step - accuracy: 0.9934 - f1_score: 0.9809 - loss: 0.0189 - precision: 0.9935 - recall: 0.9933 - val_accuracy: 0.9918 - val_f1_score: 0.9776 - val_loss: 0.0265 - val_precision: 0.9936 - val_recall: 0.9908\n",
      "Epoch 10/10\n",
      "\u001b[1m195/195\u001b[0m \u001b[32m━━━━━━━━━━━━━━━━━━━━\u001b[0m\u001b[37m\u001b[0m \u001b[1m146s\u001b[0m 748ms/step - accuracy: 0.9926 - f1_score: 0.9807 - loss: 0.0250 - precision: 0.9935 - recall: 0.9921 - val_accuracy: 0.9890 - val_f1_score: 0.9692 - val_loss: 0.0432 - val_precision: 0.9890 - val_recall: 0.9890\n"
     ]
    }
   ],
   "source": [
    "# Early stopping callback\n",
    "early_stopping = EarlyStopping(monitor='val_loss', patience=3, restore_best_weights=True)\n",
    "\n",
    "# Train the model\n",
    "history = model_mn.fit(\n",
    "    train_generators,\n",
    "    validation_data=val_generators,\n",
    "    epochs=10,\n",
    "    batch_size = 32\n",
    ")"
   ]
  },
  {
   "cell_type": "code",
   "execution_count": null,
   "metadata": {},
   "outputs": [],
   "source": [
    "#accuracy  plot\n",
    "plt.subplot(1,2,1)\n",
    "plt.plot(history.history['accuracy'],label = 'accuracy')\n",
    "plt.plot(history.history['val_accuracy'],label = 'val_accuracy')\n",
    "plt.xlabel('Epoch')\n",
    "plt.ylabel('Accuracy')\n",
    "#plt.ylim([0,1])\n",
    "plt.legend(loc = 'lower right')\n",
    "plt.title('Accuracy')"
   ]
  },
  {
   "cell_type": "code",
   "execution_count": null,
   "metadata": {},
   "outputs": [
    {
     "data": {
      "text/plain": [
       "Text(0.5, 1.0, 'Accuracy')"
      ]
     },
     "execution_count": 42,
     "metadata": {},
     "output_type": "execute_result"
    },
    {
     "data": {
      "image/png": "[encoded data removed]",
      "text/plain": [
       "<Figure size 500x300 with 1 Axes>"
      ]
     },
     "metadata": {},
     "output_type": "display_data"
    }
   ],
   "source": [
    "plt.figure(figsize = (5,3))\n",
    "plt.plot(history.history['accuracy'],label = 'accuracy')\n",
    "plt.plot(history.history['val_accuracy'],label = 'val_accuracy')\n",
    "plt.xlabel('Epoch')\n",
    "plt.ylabel('Accuracy')\n",
    "plt.title('Accuracy')\n",
    "plt.legend()"
   ]
  },
  {
   "cell_type": "code",
   "execution_count": 44,
   "metadata": {},
   "outputs": [
    {
     "data": {
      "image/png": "[encoded data removed]",
      "text/plain": [
       "<Figure size 500x300 with 1 Axes>"
      ]
     },
     "metadata": {},
     "output_type": "display_data"
    }
   ],
   "source": [
    "plt.figure(figsize = (5,3))\n",
    "plt.plot(history.history['loss'],label ='loss')\n",
    "plt.plot(history.history['val_loss'],label = 'val_loss')\n",
    "plt.xlabel('Loss')\n",
    "plt.ylabel('Epoch')\n",
    "plt.title('Loss Graph')\n",
    "plt.legend\n",
    "plt.show()"
   ]
  },
  {
   "cell_type": "code",
   "execution_count": 157,
   "metadata": {},
   "outputs": [],
   "source": [
    "with open('mobile_model.pkl','wb') as file:\n",
    "    pickle.dump(model_mn,file)"
   ]
  },
  {
   "cell_type": "code",
   "execution_count": 3,
   "metadata": {},
   "outputs": [],
   "source": [
    "import pickle\n",
    "with open('mobile_model.pkl','rb') as file:\n",
    "    mn_trained = pickle.load(file)"
   ]
  },
  {
   "cell_type": "code",
   "execution_count": 160,
   "metadata": {},
   "outputs": [
    {
     "name": "stdout",
     "output_type": "stream",
     "text": [
      "\u001b[1m100/100\u001b[0m \u001b[32m━━━━━━━━━━━━━━━━━━━━\u001b[0m\u001b[37m\u001b[0m \u001b[1m59s\u001b[0m 573ms/step - accuracy: 0.9850 - f1_score: 0.9337 - loss: 0.0452 - precision: 0.9860 - recall: 0.9841\n"
     ]
    }
   ],
   "source": [
    "mn = mn_trained.evaluate(test_generators)"
   ]
  },
  {
   "cell_type": "code",
   "execution_count": 45,
   "metadata": {},
   "outputs": [],
   "source": [
    "# Load the InceptionV3 model without the top layers\n",
    "inv3_model = InceptionV3(weights='imagenet', include_top=False, input_shape=(224, 224, 3))"
   ]
  },
  {
   "cell_type": "code",
   "execution_count": 46,
   "metadata": {},
   "outputs": [],
   "source": [
    "# Freeze the base model layers\n",
    "inv3_model.trainable = False"
   ]
  },
  {
   "cell_type": "code",
   "execution_count": 47,
   "metadata": {},
   "outputs": [],
   "source": [
    "# Add custom layers on top of the base model\n",
    "x = inv3_model.output\n",
    "x = GlobalAveragePooling2D()(x)  # Global average pooling layer\n",
    "x = Dense(1024, activation='relu')(x)  # Fully connected layer\n",
    "output = Dense(11, activation='softmax')(x)  # Output layer\n",
    "\n",
    "# Create the complete model\n",
    "model = Model(inputs=inv3_model.input, outputs=output)"
   ]
  },
  {
   "cell_type": "code",
   "execution_count": 48,
   "metadata": {},
   "outputs": [],
   "source": [
    "# Compile the model\n",
    "model.compile(optimizer='adam', loss='categorical_crossentropy', metrics=['accuracy','recall','precision','f1_score'])"
   ]
  },
  {
   "cell_type": "code",
   "execution_count": 50,
   "metadata": {},
   "outputs": [
    {
     "name": "stdout",
     "output_type": "stream",
     "text": [
      "Epoch 1/10\n",
      "\u001b[1m195/195\u001b[0m \u001b[32m━━━━━━━━━━━━━━━━━━━━\u001b[0m\u001b[37m\u001b[0m \u001b[1m314s\u001b[0m 2s/step - accuracy: 0.9516 - f1_score: 0.9301 - loss: 0.1296 - precision: 0.9561 - recall: 0.9491 - val_accuracy: 0.9551 - val_f1_score: 0.9004 - val_loss: 0.1596 - val_precision: 0.9548 - val_recall: 0.9487\n",
      "Epoch 2/10\n",
      "\u001b[1m195/195\u001b[0m \u001b[32m━━━━━━━━━━━━━━━━━━━━\u001b[0m\u001b[37m\u001b[0m \u001b[1m330s\u001b[0m 2s/step - accuracy: 0.9598 - f1_score: 0.9378 - loss: 0.1137 - precision: 0.9631 - recall: 0.9569 - val_accuracy: 0.9478 - val_f1_score: 0.8931 - val_loss: 0.1600 - val_precision: 0.9512 - val_recall: 0.9451\n",
      "Epoch 3/10\n",
      "\u001b[1m195/195\u001b[0m \u001b[32m━━━━━━━━━━━━━━━━━━━━\u001b[0m\u001b[37m\u001b[0m \u001b[1m345s\u001b[0m 2s/step - accuracy: 0.9504 - f1_score: 0.9049 - loss: 0.1396 - precision: 0.9544 - recall: 0.9473 - val_accuracy: 0.9496 - val_f1_score: 0.9052 - val_loss: 0.1483 - val_precision: 0.9529 - val_recall: 0.9451\n",
      "Epoch 4/10\n",
      "\u001b[1m195/195\u001b[0m \u001b[32m━━━━━━━━━━━━━━━━━━━━\u001b[0m\u001b[37m\u001b[0m \u001b[1m340s\u001b[0m 2s/step - accuracy: 0.9622 - f1_score: 0.9363 - loss: 0.1188 - precision: 0.9658 - recall: 0.9589 - val_accuracy: 0.9423 - val_f1_score: 0.8956 - val_loss: 0.1687 - val_precision: 0.9465 - val_recall: 0.9405\n",
      "Epoch 5/10\n",
      "\u001b[1m195/195\u001b[0m \u001b[32m━━━━━━━━━━━━━━━━━━━━\u001b[0m\u001b[37m\u001b[0m \u001b[1m341s\u001b[0m 2s/step - accuracy: 0.9664 - f1_score: 0.9495 - loss: 0.0929 - precision: 0.9679 - recall: 0.9654 - val_accuracy: 0.9551 - val_f1_score: 0.8870 - val_loss: 0.1271 - val_precision: 0.9593 - val_recall: 0.9505\n",
      "Epoch 6/10\n",
      "\u001b[1m195/195\u001b[0m \u001b[32m━━━━━━━━━━━━━━━━━━━━\u001b[0m\u001b[37m\u001b[0m \u001b[1m336s\u001b[0m 2s/step - accuracy: 0.9576 - f1_score: 0.9267 - loss: 0.1212 - precision: 0.9604 - recall: 0.9556 - val_accuracy: 0.9414 - val_f1_score: 0.9135 - val_loss: 0.1799 - val_precision: 0.9439 - val_recall: 0.9396\n",
      "Epoch 7/10\n",
      "\u001b[1m195/195\u001b[0m \u001b[32m━━━━━━━━━━━━━━━━━━━━\u001b[0m\u001b[37m\u001b[0m \u001b[1m356s\u001b[0m 2s/step - accuracy: 0.9578 - f1_score: 0.9348 - loss: 0.1293 - precision: 0.9611 - recall: 0.9557 - val_accuracy: 0.9652 - val_f1_score: 0.9284 - val_loss: 0.1212 - val_precision: 0.9669 - val_recall: 0.9625\n",
      "Epoch 8/10\n",
      "\u001b[1m195/195\u001b[0m \u001b[32m━━━━━━━━━━━━━━━━━━━━\u001b[0m\u001b[37m\u001b[0m \u001b[1m386s\u001b[0m 2s/step - accuracy: 0.9662 - f1_score: 0.9479 - loss: 0.0897 - precision: 0.9674 - recall: 0.9659 - val_accuracy: 0.9304 - val_f1_score: 0.9048 - val_loss: 0.2240 - val_precision: 0.9328 - val_recall: 0.9286\n",
      "Epoch 9/10\n",
      "\u001b[1m195/195\u001b[0m \u001b[32m━━━━━━━━━━━━━━━━━━━━\u001b[0m\u001b[37m\u001b[0m \u001b[1m403s\u001b[0m 2s/step - accuracy: 0.9680 - f1_score: 0.9354 - loss: 0.0978 - precision: 0.9691 - recall: 0.9662 - val_accuracy: 0.9551 - val_f1_score: 0.8992 - val_loss: 0.1715 - val_precision: 0.9586 - val_recall: 0.9533\n",
      "Epoch 10/10\n",
      "\u001b[1m195/195\u001b[0m \u001b[32m━━━━━━━━━━━━━━━━━━━━\u001b[0m\u001b[37m\u001b[0m \u001b[1m501s\u001b[0m 3s/step - accuracy: 0.9665 - f1_score: 0.9379 - loss: 0.0995 - precision: 0.9695 - recall: 0.9651 - val_accuracy: 0.9570 - val_f1_score: 0.9322 - val_loss: 0.1294 - val_precision: 0.9586 - val_recall: 0.9533\n"
     ]
    }
   ],
   "source": [
    "# Early stopping callback\n",
    "early_stopping = EarlyStopping(monitor='val_loss', patience=3, restore_best_weights=True)\n",
    "\n",
    "# Train the model\n",
    "history_inv3 = model.fit(\n",
    "    train_generators,\n",
    "    validation_data=val_generators,\n",
    "    epochs=10,\n",
    "    batch_size = 64\n",
    ")"
   ]
  },
  {
   "cell_type": "code",
   "execution_count": 170,
   "metadata": {},
   "outputs": [],
   "source": [
    "with open('inv3_model.pkl','wb') as file:\n",
    "    pickle.dump(history_inv3,file)"
   ]
  },
  {
   "cell_type": "code",
   "execution_count": null,
   "metadata": {},
   "outputs": [],
   "source": [
    "with open('inv3_model.pkl','rb') as file:\n",
    "    inv3_trained = pickle.load(file)\n",
    "\n",
    "inv3_test = inv3_trained.evaluate(test_generators)"
   ]
  },
  {
   "cell_type": "code",
   "execution_count": 53,
   "metadata": {},
   "outputs": [
    {
     "data": {
      "image/png": "[encoded data removed]",
      "text/plain": [
       "<Figure size 500x300 with 1 Axes>"
      ]
     },
     "metadata": {},
     "output_type": "display_data"
    }
   ],
   "source": [
    "plt.figure(figsize = (5,3))\n",
    "plt.plot(history_inv3.history['accuracy'], label='Train Accuracy')\n",
    "plt.plot(history_inv3.history['val_accuracy'], label='Validation Accuracy')\n",
    "plt.title('Model Accuracy')\n",
    "plt.xlabel('Epochs')\n",
    "plt.ylabel('Accuracy')\n",
    "plt.legend()\n",
    "plt.show()\n"
   ]
  },
  {
   "cell_type": "code",
   "execution_count": 55,
   "metadata": {},
   "outputs": [
    {
     "data": {
      "image/png": "[encoded data removed]",
      "text/plain": [
       "<Figure size 500x300 with 1 Axes>"
      ]
     },
     "metadata": {},
     "output_type": "display_data"
    }
   ],
   "source": [
    "# Plot loss\n",
    "plt.figure(figsize = (5,3))\n",
    "plt.plot(history_inv3.history['loss'], label='Train Loss')\n",
    "plt.plot(history.history['val_loss'], label='Validation Loss')\n",
    "plt.title('Model Loss')\n",
    "plt.xlabel('Epochs')\n",
    "plt.ylabel('Loss')\n",
    "plt.legend()\n",
    "plt.show()"
   ]
  },
  {
   "cell_type": "markdown",
   "metadata": {},
   "source": []
  }
 ],
 "metadata": {
  "kernelspec": {
   "display_name": "Python 3",
   "language": "python",
   "name": "python3"
  },
  "language_info": {
   "codemirror_mode": {
    "name": "ipython",
    "version": 3
   },
   "file_extension": ".py",
   "mimetype": "text/x-python",
   "name": "python",
   "nbconvert_exporter": "python",
   "pygments_lexer": "ipython3",
   "version": "3.10.16"
  }
 },
 "nbformat": 4,
 "nbformat_minor": 2
}
